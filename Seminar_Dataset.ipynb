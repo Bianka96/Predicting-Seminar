{
 "cells": [
  {
   "cell_type": "code",
   "execution_count": 1,
   "metadata": {},
   "outputs": [],
   "source": [
    "import numpy as np\n",
    "import pandas as pd\n",
    "#import itertools as it\n",
    "#from sklearn.cluster import KMeans"
   ]
  },
  {
   "cell_type": "code",
   "execution_count": 2,
   "metadata": {},
   "outputs": [],
   "source": [
    "def df_to_latex(df, filename):\n",
    "    \n",
    "    with open(filename, \"w\") as f:\n",
    "        f.write(df.to_latex(index=False, float_format=\"%.3f\"))"
   ]
  },
  {
   "cell_type": "code",
   "execution_count": 3,
   "metadata": {},
   "outputs": [],
   "source": [
    "#returns a list of all traces corresponding to cases without the ID (first entry in trace)\n",
    "def getCases(caseswithID):\n",
    "    cases = []\n",
    "    for case in caseswithID:\n",
    "        cases.append(case[1:])\n",
    "    return cases\n",
    "\n",
    "#returns a list of traces where each trace contains only the names of activities and no timestamp\n",
    "def getTraces(cases):\n",
    "    traces = []\n",
    "    for case in cases:\n",
    "        trace = [x[0] for x in case]\n",
    "        traces.append(trace)\n",
    "    return traces\n",
    "\n",
    "#given original case (trace), returns the sequence of events\n",
    "def singleTrace(case):\n",
    "    noID = case[1:]\n",
    "    sequence = [x[0] for x in noID]\n",
    "    return sequence\n"
   ]
  },
  {
   "cell_type": "code",
   "execution_count": 4,
   "metadata": {},
   "outputs": [],
   "source": [
    "#returns the list of all prefixes for a given case\n",
    "def getPrefixesForCase(case):\n",
    "    prefixes = []\n",
    "    trace = singleTrace(case)\n",
    "    for i in range(len(trace)+1):\n",
    "            prefix = trace[:i]\n",
    "            prefixes.append(prefix)\n",
    "    return prefixes\n",
    "\n",
    "#returns list with no duplicates of all prefixes of traces in the input\n",
    "def getPrefixes(traces):\n",
    "    prefixes = []\n",
    "    for trace in traces:\n",
    "        for i in range(len(trace)+1):\n",
    "            prefix = trace[:i]\n",
    "            prefixes.append(prefix)\n",
    "    prefixes_noduplicates = []\n",
    "    for element in prefixes:\n",
    "        if element not in prefixes_noduplicates:\n",
    "            prefixes_noduplicates.append(element)\n",
    "    return prefixes_noduplicates\n",
    "\n",
    "#returns a list of entries (prefix,caseIDs) containig this prefix \n",
    "def getPrefixesIDs(caseswithIDs):\n",
    "    removedIDs = getCases(caseswithIDs)\n",
    "    all_traces = getTraces(removedIDs)\n",
    "    all_prefixes = getPrefixes(all_traces)\n",
    "    prefixesIDs = [(x,[]) for x in all_prefixes]\n",
    "    for case in caseswithIDs:\n",
    "        ID = case[0]\n",
    "        prefixes_case = getPrefixesForCase(case)\n",
    "        for elem in prefixes_case:\n",
    "            index = all_prefixes.index(elem)\n",
    "            prefixesIDs[index][1].append(ID)\n",
    "    \n",
    "    return prefixesIDs"
   ]
  },
  {
   "cell_type": "code",
   "execution_count": 5,
   "metadata": {},
   "outputs": [],
   "source": [
    "#computes the multiset abstraction for a given (partial) trace\n",
    "def ms_abstraction(prefix):\n",
    "    prefix_ms = []\n",
    "    pos = 0\n",
    "    for string in prefix:\n",
    "        occurrences = prefix.count(string)\n",
    "        prefix_ms.insert(pos,(string,occurrences))\n",
    "        pos += 1 \n",
    "    prefix_ms_noduplicates = set(prefix_ms)\n",
    "    return prefix_ms_noduplicates\n",
    "    \n",
    "\n",
    "\n",
    "#calculates states using multiset abstraction and yields the list of states\n",
    "def getStates(prefixes):\n",
    "    states = []\n",
    "    states_noduplicates = []\n",
    "    for prefix in prefixes:\n",
    "        prefix_ms_noduplicates = ms_abstraction(prefix)\n",
    "        states.append(prefix_ms_noduplicates)   \n",
    "        for state in states:\n",
    "            if state not in states_noduplicates:\n",
    "                states_noduplicates.append(state)\n",
    "    return states_noduplicates\n",
    "\n",
    "#returns list of CaseIDs for the cases whose traces are mapped to the given state\n",
    "def getStateIDs(state, prefixesIDs):\n",
    "    IDs = []\n",
    "    for (prefix, ids) in prefixIDs:\n",
    "        if state == ms_abstraction(prefix):\n",
    "            IDs.extend(ids)\n",
    "    return IDs\n",
    "\n",
    "#returns list containing only the cases with the given IDs\n",
    "def filterIDs(IDs,caseswithIDs):\n",
    "    cases = []\n",
    "    for case in caseswithIDs:\n",
    "        if case[0] in IDs:\n",
    "            cases.append(case)\n",
    "    return cases"
   ]
  },
  {
   "cell_type": "code",
   "execution_count": 6,
   "metadata": {},
   "outputs": [],
   "source": [
    "#computes prediction (average rt, average grade) for given prefix\n",
    "def pred_prefix(prefix,prefixIDs,caseswithIDs):\n",
    "    prefixes = [p[0] for p in prefixIDs]\n",
    "    index = prefixes.index(prefix)\n",
    "    IDs = prefixIDs[index][1]\n",
    "    cases = filterIDs(IDs,caseswithIDs)\n",
    "    RTs = []\n",
    "    grades = []\n",
    "    \n",
    "    for case in cases:\n",
    "        last_case = case[-1]\n",
    "        rt_2 = last_case[1]\n",
    "        length = len(prefix)\n",
    "        if length > 0:\n",
    "            last_prefix = case[length]\n",
    "            rt_1 = last_prefix[1]\n",
    "            RTs.append(rt_2-rt_1)\n",
    "        else:\n",
    "            RTs.append(rt_2)\n",
    "    \n",
    "    for ID in IDs:\n",
    "        row = data.index[data['CaseID'] == ID].tolist()[0]\n",
    "        grade = data.iloc[row,5]\n",
    "        grades.append(grade)\n",
    "    \n",
    "    avg_RT = sum(RTs)/len(RTs)\n",
    "    avg_grade = sum(grades)/len(grades)\n",
    "    return (avg_RT,avg_grade)"
   ]
  },
  {
   "cell_type": "code",
   "execution_count": 7,
   "metadata": {},
   "outputs": [],
   "source": [
    "#returns list containing all prefixes that are mapped to a certain state\n",
    "def prefixes_for_state(state,prefixesIDs):\n",
    "    prefixes_for_state = []\n",
    "    prefixes = [p[0] for p in prefixIDs]\n",
    "    for p in prefixes:\n",
    "        if ms_abstraction(p) == state:\n",
    "            prefixes_for_state.append(p)\n",
    "    return prefixes_for_state\n",
    "\n",
    "#returns annotation (average rt, average grade) for given state\n",
    "def annotation_state(state,prefixesIDs,caseswithIDs):\n",
    "    prefixes = prefixes_for_state(state,prefixesIDs)\n",
    "    predictions = []\n",
    "    for p in prefixes:\n",
    "        predictions.append(pred_prefix(p,prefixesIDs,caseswithIDs))\n",
    "    RTs = [pred[0] for pred in predictions]\n",
    "    grades = [pred[1] for pred in predictions]\n",
    "    \n",
    "    avg_RT = sum(RTs)/len(RTs)\n",
    "    avg_grade = sum(grades)/len(grades)\n",
    "    \n",
    "    return (avg_RT,avg_grade)\n"
   ]
  },
  {
   "cell_type": "code",
   "execution_count": 8,
   "metadata": {},
   "outputs": [],
   "source": [
    "#computes value for state and trace\n",
    "def value(state,trace,prefixesIDs,caseswithIDs):\n",
    "    prefixes_state = prefixes_for_state(state,prefixesIDs)\n",
    "    prefixes_trace = getPrefixesForCase(trace)\n",
    "    common_prefixes = []\n",
    "    for p in prefixes_trace:\n",
    "        if p in prefixes_state:\n",
    "            common_prefixes.append(p)\n",
    "    if len(common_prefixes) == 0:\n",
    "        return None\n",
    "    else:\n",
    "        sequence = []\n",
    "        for cp in common_prefixes:\n",
    "            sequence.append(pred_prefix(cp,prefixesIDs,caseswithIDs))\n",
    "            seq1 = [s[0] for s in sequence]\n",
    "            avg1 = sum(seq1)/len(seq1)\n",
    "            seq2 = [s[1] for s in sequence]\n",
    "            avg2 = sum(seq2)/len(seq2)\n",
    "        return (avg1,avg2)"
   ]
  },
  {
   "cell_type": "code",
   "execution_count": 9,
   "metadata": {},
   "outputs": [],
   "source": [
    "case0 = [\"0\",(\"I\",1),(\"M\",40),(\"M\",60),(\"F\",85),(\"M\",95),(\"S\",100)]\n",
    "case1 = [\"1\",(\"I\",1),(\"M\",30),(\"M\",55),(\"F\",80),(\"R\",90),(\"S\",95)]\n",
    "case2 = [\"2\",(\"I\",1),(\"M\",30),(\"M\",50),(\"F\",75),(\"R\",85),(\"S\",90)]\n",
    "case3 = [\"3\",(\"I\",1),(\"M\",40),(\"M\",60),(\"R\",80),(\"F\",90),(\"S\",100)]\n",
    "case4 = [\"4\",(\"I\",1),(\"M\",45),(\"R\",60),(\"F\",85),(\"S\",105)]\n",
    "case5 = [\"5\",(\"I\",1),(\"M\",45),(\"R\",70),(\"F\",90),(\"S\",100)]\n",
    "case6 = [\"6\",(\"I\",1),(\"M\",40),(\"M\",60),(\"F\",80),(\"M\",90),(\"S\",100)]\n",
    "case7 = [\"7\",(\"I\",1),(\"M\",35),(\"R\",60),(\"M\",90),(\"S\",100)]\n",
    "case8 = [\"8\",(\"I\",1),(\"M\",50),(\"F\",70),(\"M\",90),(\"M\",95),(\"S\",110)]\n",
    "case9 = [\"9\",(\"I\",1),(\"M\",40),(\"F\",60),(\"R\",80),(\"S\",95)]"
   ]
  },
  {
   "cell_type": "code",
   "execution_count": 10,
   "metadata": {},
   "outputs": [],
   "source": [
    "casesWithID = [case0, case1, case2, case3, case4, case5, case6, case7, case8, case9]\n",
    "cases = getCases(casesWithID)\n",
    "traces = getTraces(cases)\n",
    "prefixes = getPrefixes(traces)\n",
    "prefixIDs = getPrefixesIDs(casesWithID)\n",
    "states = getStates(prefixes)"
   ]
  },
  {
   "cell_type": "code",
   "execution_count": 11,
   "metadata": {},
   "outputs": [],
   "source": [
    "data = pd.DataFrame(columns=['CaseID','Trace','PK','Field','Supervisor','Final Grade'])\n",
    "data['CaseID'] = [case[0] for case in casesWithID]\n",
    "data['Trace'] = traces\n",
    "data['PK'] = ['average','high','high','high','average','high','average','high','average','high']\n",
    "data['Field'] = ['SE','DS','DS','DS','SE','SE','DS','SE','DS','SE']\n",
    "data['Supervisor'] = ['John','John','John','Brown','Brown','Brown','John','John','John','Brown']\n",
    "data['Final Grade'] = [0.7, 0.85, 0.95, 0.9, 0.8, 0.75, 0.7, 0.7, 0.6, 0.8]\n"
   ]
  },
  {
   "cell_type": "code",
   "execution_count": 12,
   "metadata": {},
   "outputs": [],
   "source": [
    "table = pd.DataFrame(columns=['Prefix','Prediction for prefix', 'CaseIDs containing prefix', 'Corresponding state', 'CaseIDs containing state', 'Annotation for state'])\n",
    "table['Prefix'] = prefixes\n",
    "table['Corresponding state'] = [ms_abstraction(prefix) for prefix in prefixes]\n",
    "table['CaseIDs containing prefix'] = [p[1] for p in prefixIDs]\n",
    "\n",
    "table1 = table.copy()\n",
    "for i in range(len(table)):\n",
    "    state = ms_abstraction(table.iat[i, 0])\n",
    "    IDs = getStateIDs(state,prefixIDs)\n",
    "    table1.iloc[i,4] = IDs\n",
    "\n",
    "table2 = table1.copy()\n",
    "for i in range(len(table)):\n",
    "    prefix = table.iat[i,0]\n",
    "    pair = pred_prefix(prefix,prefixIDs,casesWithID)\n",
    "    table2.iloc[i,1] = pair\n",
    "\n",
    "table3 = table2.copy()    \n",
    "for i in range(len(table)):\n",
    "    prefix = table.iat[i,0]\n",
    "    state = ms_abstraction(prefix)\n",
    "    pair = annotation_state(state,prefixIDs,casesWithID)\n",
    "    table3.iloc[i,5] = pair\n",
    "    "
   ]
  },
  {
   "cell_type": "code",
   "execution_count": null,
   "metadata": {},
   "outputs": [],
   "source": []
  },
  {
   "cell_type": "code",
   "execution_count": null,
   "metadata": {},
   "outputs": [],
   "source": []
  },
  {
   "cell_type": "code",
   "execution_count": 13,
   "metadata": {},
   "outputs": [
    {
     "data": {
      "text/html": [
       "<div>\n",
       "<style scoped>\n",
       "    .dataframe tbody tr th:only-of-type {\n",
       "        vertical-align: middle;\n",
       "    }\n",
       "\n",
       "    .dataframe tbody tr th {\n",
       "        vertical-align: top;\n",
       "    }\n",
       "\n",
       "    .dataframe thead th {\n",
       "        text-align: right;\n",
       "    }\n",
       "</style>\n",
       "<table border=\"1\" class=\"dataframe\">\n",
       "  <thead>\n",
       "    <tr style=\"text-align: right;\">\n",
       "      <th></th>\n",
       "      <th>CaseID</th>\n",
       "      <th>Trace</th>\n",
       "      <th>PK</th>\n",
       "      <th>Field</th>\n",
       "      <th>Supervisor</th>\n",
       "      <th>Final Grade</th>\n",
       "    </tr>\n",
       "  </thead>\n",
       "  <tbody>\n",
       "    <tr>\n",
       "      <th>0</th>\n",
       "      <td>0</td>\n",
       "      <td>[I, M, M, F, M, S]</td>\n",
       "      <td>average</td>\n",
       "      <td>SE</td>\n",
       "      <td>John</td>\n",
       "      <td>0.70</td>\n",
       "    </tr>\n",
       "    <tr>\n",
       "      <th>1</th>\n",
       "      <td>1</td>\n",
       "      <td>[I, M, M, F, R, S]</td>\n",
       "      <td>high</td>\n",
       "      <td>DS</td>\n",
       "      <td>John</td>\n",
       "      <td>0.85</td>\n",
       "    </tr>\n",
       "    <tr>\n",
       "      <th>2</th>\n",
       "      <td>2</td>\n",
       "      <td>[I, M, M, F, R, S]</td>\n",
       "      <td>high</td>\n",
       "      <td>DS</td>\n",
       "      <td>John</td>\n",
       "      <td>0.95</td>\n",
       "    </tr>\n",
       "    <tr>\n",
       "      <th>3</th>\n",
       "      <td>3</td>\n",
       "      <td>[I, M, M, R, F, S]</td>\n",
       "      <td>high</td>\n",
       "      <td>DS</td>\n",
       "      <td>Brown</td>\n",
       "      <td>0.90</td>\n",
       "    </tr>\n",
       "    <tr>\n",
       "      <th>4</th>\n",
       "      <td>4</td>\n",
       "      <td>[I, M, R, F, S]</td>\n",
       "      <td>average</td>\n",
       "      <td>SE</td>\n",
       "      <td>Brown</td>\n",
       "      <td>0.80</td>\n",
       "    </tr>\n",
       "    <tr>\n",
       "      <th>5</th>\n",
       "      <td>5</td>\n",
       "      <td>[I, M, R, F, S]</td>\n",
       "      <td>high</td>\n",
       "      <td>SE</td>\n",
       "      <td>Brown</td>\n",
       "      <td>0.75</td>\n",
       "    </tr>\n",
       "    <tr>\n",
       "      <th>6</th>\n",
       "      <td>6</td>\n",
       "      <td>[I, M, M, F, M, S]</td>\n",
       "      <td>average</td>\n",
       "      <td>DS</td>\n",
       "      <td>John</td>\n",
       "      <td>0.70</td>\n",
       "    </tr>\n",
       "    <tr>\n",
       "      <th>7</th>\n",
       "      <td>7</td>\n",
       "      <td>[I, M, R, M, S]</td>\n",
       "      <td>high</td>\n",
       "      <td>SE</td>\n",
       "      <td>John</td>\n",
       "      <td>0.70</td>\n",
       "    </tr>\n",
       "    <tr>\n",
       "      <th>8</th>\n",
       "      <td>8</td>\n",
       "      <td>[I, M, F, M, M, S]</td>\n",
       "      <td>average</td>\n",
       "      <td>DS</td>\n",
       "      <td>John</td>\n",
       "      <td>0.60</td>\n",
       "    </tr>\n",
       "    <tr>\n",
       "      <th>9</th>\n",
       "      <td>9</td>\n",
       "      <td>[I, M, F, R, S]</td>\n",
       "      <td>high</td>\n",
       "      <td>SE</td>\n",
       "      <td>Brown</td>\n",
       "      <td>0.80</td>\n",
       "    </tr>\n",
       "  </tbody>\n",
       "</table>\n",
       "</div>"
      ],
      "text/plain": [
       "  CaseID               Trace       PK Field Supervisor  Final Grade\n",
       "0      0  [I, M, M, F, M, S]  average    SE       John         0.70\n",
       "1      1  [I, M, M, F, R, S]     high    DS       John         0.85\n",
       "2      2  [I, M, M, F, R, S]     high    DS       John         0.95\n",
       "3      3  [I, M, M, R, F, S]     high    DS      Brown         0.90\n",
       "4      4     [I, M, R, F, S]  average    SE      Brown         0.80\n",
       "5      5     [I, M, R, F, S]     high    SE      Brown         0.75\n",
       "6      6  [I, M, M, F, M, S]  average    DS       John         0.70\n",
       "7      7     [I, M, R, M, S]     high    SE       John         0.70\n",
       "8      8  [I, M, F, M, M, S]  average    DS       John         0.60\n",
       "9      9     [I, M, F, R, S]     high    SE      Brown         0.80"
      ]
     },
     "execution_count": 13,
     "metadata": {},
     "output_type": "execute_result"
    }
   ],
   "source": [
    "data"
   ]
  },
  {
   "cell_type": "code",
   "execution_count": 14,
   "metadata": {},
   "outputs": [],
   "source": [
    "df_to_latex(data, \"data.tex\")"
   ]
  },
  {
   "cell_type": "code",
   "execution_count": 15,
   "metadata": {},
   "outputs": [
    {
     "data": {
      "text/html": [
       "<div>\n",
       "<style scoped>\n",
       "    .dataframe tbody tr th:only-of-type {\n",
       "        vertical-align: middle;\n",
       "    }\n",
       "\n",
       "    .dataframe tbody tr th {\n",
       "        vertical-align: top;\n",
       "    }\n",
       "\n",
       "    .dataframe thead th {\n",
       "        text-align: right;\n",
       "    }\n",
       "</style>\n",
       "<table border=\"1\" class=\"dataframe\">\n",
       "  <thead>\n",
       "    <tr style=\"text-align: right;\">\n",
       "      <th></th>\n",
       "      <th>Prefix</th>\n",
       "      <th>Prediction for prefix</th>\n",
       "      <th>CaseIDs containing prefix</th>\n",
       "      <th>Corresponding state</th>\n",
       "      <th>CaseIDs containing state</th>\n",
       "      <th>Annotation for state</th>\n",
       "    </tr>\n",
       "  </thead>\n",
       "  <tbody>\n",
       "    <tr>\n",
       "      <th>0</th>\n",
       "      <td>[]</td>\n",
       "      <td>(99.5, 0.775)</td>\n",
       "      <td>[0, 1, 2, 3, 4, 5, 6, 7, 8, 9]</td>\n",
       "      <td>{}</td>\n",
       "      <td>[0, 1, 2, 3, 4, 5, 6, 7, 8, 9]</td>\n",
       "      <td>(99.5, 0.775)</td>\n",
       "    </tr>\n",
       "    <tr>\n",
       "      <th>1</th>\n",
       "      <td>[I]</td>\n",
       "      <td>(98.5, 0.775)</td>\n",
       "      <td>[0, 1, 2, 3, 4, 5, 6, 7, 8, 9]</td>\n",
       "      <td>{(I, 1)}</td>\n",
       "      <td>[0, 1, 2, 3, 4, 5, 6, 7, 8, 9]</td>\n",
       "      <td>(98.5, 0.775)</td>\n",
       "    </tr>\n",
       "    <tr>\n",
       "      <th>2</th>\n",
       "      <td>[I, M]</td>\n",
       "      <td>(60.0, 0.775)</td>\n",
       "      <td>[0, 1, 2, 3, 4, 5, 6, 7, 8, 9]</td>\n",
       "      <td>{(M, 1), (I, 1)}</td>\n",
       "      <td>[0, 1, 2, 3, 4, 5, 6, 7, 8, 9]</td>\n",
       "      <td>(60.0, 0.775)</td>\n",
       "    </tr>\n",
       "    <tr>\n",
       "      <th>3</th>\n",
       "      <td>[I, M, M]</td>\n",
       "      <td>(40.0, 0.82)</td>\n",
       "      <td>[0, 1, 2, 3, 6]</td>\n",
       "      <td>{(M, 2), (I, 1)}</td>\n",
       "      <td>[0, 1, 2, 3, 6]</td>\n",
       "      <td>(40.0, 0.82)</td>\n",
       "    </tr>\n",
       "    <tr>\n",
       "      <th>4</th>\n",
       "      <td>[I, M, M, F]</td>\n",
       "      <td>(16.25, 0.8)</td>\n",
       "      <td>[0, 1, 2, 6]</td>\n",
       "      <td>{(F, 1), (M, 2), (I, 1)}</td>\n",
       "      <td>[0, 1, 2, 6, 8]</td>\n",
       "      <td>(18.125, 0.7)</td>\n",
       "    </tr>\n",
       "    <tr>\n",
       "      <th>5</th>\n",
       "      <td>[I, M, M, F, M]</td>\n",
       "      <td>(7.5, 0.7)</td>\n",
       "      <td>[0, 6]</td>\n",
       "      <td>{(F, 1), (M, 3), (I, 1)}</td>\n",
       "      <td>[0, 6, 8]</td>\n",
       "      <td>(11.25, 0.6499999999999999)</td>\n",
       "    </tr>\n",
       "    <tr>\n",
       "      <th>6</th>\n",
       "      <td>[I, M, M, F, M, S]</td>\n",
       "      <td>(0.0, 0.7)</td>\n",
       "      <td>[0, 6]</td>\n",
       "      <td>{(F, 1), (S, 1), (M, 3), (I, 1)}</td>\n",
       "      <td>[0, 6, 8]</td>\n",
       "      <td>(0.0, 0.6499999999999999)</td>\n",
       "    </tr>\n",
       "    <tr>\n",
       "      <th>7</th>\n",
       "      <td>[I, M, M, F, R]</td>\n",
       "      <td>(5.0, 0.8999999999999999)</td>\n",
       "      <td>[1, 2]</td>\n",
       "      <td>{(F, 1), (M, 2), (R, 1), (I, 1)}</td>\n",
       "      <td>[1, 2, 3]</td>\n",
       "      <td>(7.5, 0.8999999999999999)</td>\n",
       "    </tr>\n",
       "    <tr>\n",
       "      <th>8</th>\n",
       "      <td>[I, M, M, F, R, S]</td>\n",
       "      <td>(0.0, 0.8999999999999999)</td>\n",
       "      <td>[1, 2]</td>\n",
       "      <td>{(F, 1), (R, 1), (S, 1), (M, 2), (I, 1)}</td>\n",
       "      <td>[1, 2, 3]</td>\n",
       "      <td>(0.0, 0.8999999999999999)</td>\n",
       "    </tr>\n",
       "    <tr>\n",
       "      <th>9</th>\n",
       "      <td>[I, M, M, R]</td>\n",
       "      <td>(20.0, 0.9)</td>\n",
       "      <td>[3]</td>\n",
       "      <td>{(M, 2), (R, 1), (I, 1)}</td>\n",
       "      <td>[3, 7]</td>\n",
       "      <td>(15.0, 0.8)</td>\n",
       "    </tr>\n",
       "    <tr>\n",
       "      <th>10</th>\n",
       "      <td>[I, M, M, R, F]</td>\n",
       "      <td>(10.0, 0.9)</td>\n",
       "      <td>[3]</td>\n",
       "      <td>{(F, 1), (M, 2), (R, 1), (I, 1)}</td>\n",
       "      <td>[1, 2, 3]</td>\n",
       "      <td>(7.5, 0.8999999999999999)</td>\n",
       "    </tr>\n",
       "    <tr>\n",
       "      <th>11</th>\n",
       "      <td>[I, M, M, R, F, S]</td>\n",
       "      <td>(0.0, 0.9)</td>\n",
       "      <td>[3]</td>\n",
       "      <td>{(F, 1), (R, 1), (S, 1), (M, 2), (I, 1)}</td>\n",
       "      <td>[1, 2, 3]</td>\n",
       "      <td>(0.0, 0.8999999999999999)</td>\n",
       "    </tr>\n",
       "    <tr>\n",
       "      <th>12</th>\n",
       "      <td>[I, M, R]</td>\n",
       "      <td>(38.333333333333336, 0.75)</td>\n",
       "      <td>[4, 5, 7]</td>\n",
       "      <td>{(R, 1), (M, 1), (I, 1)}</td>\n",
       "      <td>[4, 5, 7]</td>\n",
       "      <td>(38.333333333333336, 0.75)</td>\n",
       "    </tr>\n",
       "    <tr>\n",
       "      <th>13</th>\n",
       "      <td>[I, M, R, F]</td>\n",
       "      <td>(15.0, 0.775)</td>\n",
       "      <td>[4, 5]</td>\n",
       "      <td>{(F, 1), (R, 1), (M, 1), (I, 1)}</td>\n",
       "      <td>[4, 5, 9]</td>\n",
       "      <td>(15.0, 0.7875000000000001)</td>\n",
       "    </tr>\n",
       "    <tr>\n",
       "      <th>14</th>\n",
       "      <td>[I, M, R, F, S]</td>\n",
       "      <td>(0.0, 0.775)</td>\n",
       "      <td>[4, 5]</td>\n",
       "      <td>{(F, 1), (R, 1), (S, 1), (M, 1), (I, 1)}</td>\n",
       "      <td>[4, 5, 9]</td>\n",
       "      <td>(0.0, 0.7875000000000001)</td>\n",
       "    </tr>\n",
       "    <tr>\n",
       "      <th>15</th>\n",
       "      <td>[I, M, R, M]</td>\n",
       "      <td>(10.0, 0.7)</td>\n",
       "      <td>[7]</td>\n",
       "      <td>{(M, 2), (R, 1), (I, 1)}</td>\n",
       "      <td>[3, 7]</td>\n",
       "      <td>(15.0, 0.8)</td>\n",
       "    </tr>\n",
       "    <tr>\n",
       "      <th>16</th>\n",
       "      <td>[I, M, R, M, S]</td>\n",
       "      <td>(0.0, 0.7)</td>\n",
       "      <td>[7]</td>\n",
       "      <td>{(M, 2), (R, 1), (S, 1), (I, 1)}</td>\n",
       "      <td>[7]</td>\n",
       "      <td>(0.0, 0.7)</td>\n",
       "    </tr>\n",
       "    <tr>\n",
       "      <th>17</th>\n",
       "      <td>[I, M, F]</td>\n",
       "      <td>(37.5, 0.7)</td>\n",
       "      <td>[8, 9]</td>\n",
       "      <td>{(F, 1), (M, 1), (I, 1)}</td>\n",
       "      <td>[8, 9]</td>\n",
       "      <td>(37.5, 0.7)</td>\n",
       "    </tr>\n",
       "    <tr>\n",
       "      <th>18</th>\n",
       "      <td>[I, M, F, M]</td>\n",
       "      <td>(20.0, 0.6)</td>\n",
       "      <td>[8]</td>\n",
       "      <td>{(F, 1), (M, 2), (I, 1)}</td>\n",
       "      <td>[0, 1, 2, 6, 8]</td>\n",
       "      <td>(18.125, 0.7)</td>\n",
       "    </tr>\n",
       "    <tr>\n",
       "      <th>19</th>\n",
       "      <td>[I, M, F, M, M]</td>\n",
       "      <td>(15.0, 0.6)</td>\n",
       "      <td>[8]</td>\n",
       "      <td>{(F, 1), (M, 3), (I, 1)}</td>\n",
       "      <td>[0, 6, 8]</td>\n",
       "      <td>(11.25, 0.6499999999999999)</td>\n",
       "    </tr>\n",
       "    <tr>\n",
       "      <th>20</th>\n",
       "      <td>[I, M, F, M, M, S]</td>\n",
       "      <td>(0.0, 0.6)</td>\n",
       "      <td>[8]</td>\n",
       "      <td>{(F, 1), (S, 1), (M, 3), (I, 1)}</td>\n",
       "      <td>[0, 6, 8]</td>\n",
       "      <td>(0.0, 0.6499999999999999)</td>\n",
       "    </tr>\n",
       "    <tr>\n",
       "      <th>21</th>\n",
       "      <td>[I, M, F, R]</td>\n",
       "      <td>(15.0, 0.8)</td>\n",
       "      <td>[9]</td>\n",
       "      <td>{(F, 1), (R, 1), (M, 1), (I, 1)}</td>\n",
       "      <td>[4, 5, 9]</td>\n",
       "      <td>(15.0, 0.7875000000000001)</td>\n",
       "    </tr>\n",
       "    <tr>\n",
       "      <th>22</th>\n",
       "      <td>[I, M, F, R, S]</td>\n",
       "      <td>(0.0, 0.8)</td>\n",
       "      <td>[9]</td>\n",
       "      <td>{(F, 1), (R, 1), (S, 1), (M, 1), (I, 1)}</td>\n",
       "      <td>[4, 5, 9]</td>\n",
       "      <td>(0.0, 0.7875000000000001)</td>\n",
       "    </tr>\n",
       "  </tbody>\n",
       "</table>\n",
       "</div>"
      ],
      "text/plain": [
       "                Prefix       Prediction for prefix  \\\n",
       "0                   []               (99.5, 0.775)   \n",
       "1                  [I]               (98.5, 0.775)   \n",
       "2               [I, M]               (60.0, 0.775)   \n",
       "3            [I, M, M]                (40.0, 0.82)   \n",
       "4         [I, M, M, F]                (16.25, 0.8)   \n",
       "5      [I, M, M, F, M]                  (7.5, 0.7)   \n",
       "6   [I, M, M, F, M, S]                  (0.0, 0.7)   \n",
       "7      [I, M, M, F, R]   (5.0, 0.8999999999999999)   \n",
       "8   [I, M, M, F, R, S]   (0.0, 0.8999999999999999)   \n",
       "9         [I, M, M, R]                 (20.0, 0.9)   \n",
       "10     [I, M, M, R, F]                 (10.0, 0.9)   \n",
       "11  [I, M, M, R, F, S]                  (0.0, 0.9)   \n",
       "12           [I, M, R]  (38.333333333333336, 0.75)   \n",
       "13        [I, M, R, F]               (15.0, 0.775)   \n",
       "14     [I, M, R, F, S]                (0.0, 0.775)   \n",
       "15        [I, M, R, M]                 (10.0, 0.7)   \n",
       "16     [I, M, R, M, S]                  (0.0, 0.7)   \n",
       "17           [I, M, F]                 (37.5, 0.7)   \n",
       "18        [I, M, F, M]                 (20.0, 0.6)   \n",
       "19     [I, M, F, M, M]                 (15.0, 0.6)   \n",
       "20  [I, M, F, M, M, S]                  (0.0, 0.6)   \n",
       "21        [I, M, F, R]                 (15.0, 0.8)   \n",
       "22     [I, M, F, R, S]                  (0.0, 0.8)   \n",
       "\n",
       "         CaseIDs containing prefix                       Corresponding state  \\\n",
       "0   [0, 1, 2, 3, 4, 5, 6, 7, 8, 9]                                        {}   \n",
       "1   [0, 1, 2, 3, 4, 5, 6, 7, 8, 9]                                  {(I, 1)}   \n",
       "2   [0, 1, 2, 3, 4, 5, 6, 7, 8, 9]                          {(M, 1), (I, 1)}   \n",
       "3                  [0, 1, 2, 3, 6]                          {(M, 2), (I, 1)}   \n",
       "4                     [0, 1, 2, 6]                  {(F, 1), (M, 2), (I, 1)}   \n",
       "5                           [0, 6]                  {(F, 1), (M, 3), (I, 1)}   \n",
       "6                           [0, 6]          {(F, 1), (S, 1), (M, 3), (I, 1)}   \n",
       "7                           [1, 2]          {(F, 1), (M, 2), (R, 1), (I, 1)}   \n",
       "8                           [1, 2]  {(F, 1), (R, 1), (S, 1), (M, 2), (I, 1)}   \n",
       "9                              [3]                  {(M, 2), (R, 1), (I, 1)}   \n",
       "10                             [3]          {(F, 1), (M, 2), (R, 1), (I, 1)}   \n",
       "11                             [3]  {(F, 1), (R, 1), (S, 1), (M, 2), (I, 1)}   \n",
       "12                       [4, 5, 7]                  {(R, 1), (M, 1), (I, 1)}   \n",
       "13                          [4, 5]          {(F, 1), (R, 1), (M, 1), (I, 1)}   \n",
       "14                          [4, 5]  {(F, 1), (R, 1), (S, 1), (M, 1), (I, 1)}   \n",
       "15                             [7]                  {(M, 2), (R, 1), (I, 1)}   \n",
       "16                             [7]          {(M, 2), (R, 1), (S, 1), (I, 1)}   \n",
       "17                          [8, 9]                  {(F, 1), (M, 1), (I, 1)}   \n",
       "18                             [8]                  {(F, 1), (M, 2), (I, 1)}   \n",
       "19                             [8]                  {(F, 1), (M, 3), (I, 1)}   \n",
       "20                             [8]          {(F, 1), (S, 1), (M, 3), (I, 1)}   \n",
       "21                             [9]          {(F, 1), (R, 1), (M, 1), (I, 1)}   \n",
       "22                             [9]  {(F, 1), (R, 1), (S, 1), (M, 1), (I, 1)}   \n",
       "\n",
       "          CaseIDs containing state         Annotation for state  \n",
       "0   [0, 1, 2, 3, 4, 5, 6, 7, 8, 9]                (99.5, 0.775)  \n",
       "1   [0, 1, 2, 3, 4, 5, 6, 7, 8, 9]                (98.5, 0.775)  \n",
       "2   [0, 1, 2, 3, 4, 5, 6, 7, 8, 9]                (60.0, 0.775)  \n",
       "3                  [0, 1, 2, 3, 6]                 (40.0, 0.82)  \n",
       "4                  [0, 1, 2, 6, 8]                (18.125, 0.7)  \n",
       "5                        [0, 6, 8]  (11.25, 0.6499999999999999)  \n",
       "6                        [0, 6, 8]    (0.0, 0.6499999999999999)  \n",
       "7                        [1, 2, 3]    (7.5, 0.8999999999999999)  \n",
       "8                        [1, 2, 3]    (0.0, 0.8999999999999999)  \n",
       "9                           [3, 7]                  (15.0, 0.8)  \n",
       "10                       [1, 2, 3]    (7.5, 0.8999999999999999)  \n",
       "11                       [1, 2, 3]    (0.0, 0.8999999999999999)  \n",
       "12                       [4, 5, 7]   (38.333333333333336, 0.75)  \n",
       "13                       [4, 5, 9]   (15.0, 0.7875000000000001)  \n",
       "14                       [4, 5, 9]    (0.0, 0.7875000000000001)  \n",
       "15                          [3, 7]                  (15.0, 0.8)  \n",
       "16                             [7]                   (0.0, 0.7)  \n",
       "17                          [8, 9]                  (37.5, 0.7)  \n",
       "18                 [0, 1, 2, 6, 8]                (18.125, 0.7)  \n",
       "19                       [0, 6, 8]  (11.25, 0.6499999999999999)  \n",
       "20                       [0, 6, 8]    (0.0, 0.6499999999999999)  \n",
       "21                       [4, 5, 9]   (15.0, 0.7875000000000001)  \n",
       "22                       [4, 5, 9]    (0.0, 0.7875000000000001)  "
      ]
     },
     "execution_count": 15,
     "metadata": {},
     "output_type": "execute_result"
    }
   ],
   "source": [
    "table3"
   ]
  },
  {
   "cell_type": "code",
   "execution_count": 16,
   "metadata": {},
   "outputs": [],
   "source": [
    "df_to_latex(table3, \"table3.tex\")"
   ]
  },
  {
   "cell_type": "code",
   "execution_count": 17,
   "metadata": {},
   "outputs": [],
   "source": [
    "cluster_table = pd.DataFrame(columns=['Prefix','Case0','Case1','Case2','Case3','Case4','Case5','Case6','Case7','Case8','Case9'])\n",
    "cluster_table['Prefix'] = prefixes\n",
    "cols = cluster_table.columns[1:]\n",
    "\n",
    "for c in range(len(cols)):\n",
    "    case = casesWithID[c]\n",
    "    prefixes = getPrefixesForCase(case)\n",
    "    for i in range(len(cluster_table)):\n",
    "        p = cluster_table.iat[i,0]\n",
    "        if p in prefixes:\n",
    "            cluster_table.iloc[i,c+1] = table3.iat[i,1]\n",
    "        else:\n",
    "            cluster_table.iloc[i,c+1] = None\n",
    "    "
   ]
  },
  {
   "cell_type": "code",
   "execution_count": 18,
   "metadata": {},
   "outputs": [],
   "source": [
    "#cluster_table"
   ]
  },
  {
   "cell_type": "code",
   "execution_count": 19,
   "metadata": {},
   "outputs": [],
   "source": [
    "cluster_table2 = pd.DataFrame(columns=['States','Case0','Case1','Case2','Case3','Case4','Case5','Case6','Case7','Case8','Case9'])\n",
    "cluster_table2['States'] = states\n",
    "cols = cluster_table2.columns[1:]\n",
    "\n",
    "for c in range(len(cols)):\n",
    "    case = casesWithID[c]\n",
    "    #prefixes = getPrefixesForCase(case)\n",
    "    for i in range(len(cluster_table2)):\n",
    "        s = cluster_table2.iat[i,0]\n",
    "        cluster_table2.iloc[i,c+1] = value(s,case,prefixIDs,casesWithID)\n",
    "            "
   ]
  },
  {
   "cell_type": "code",
   "execution_count": 20,
   "metadata": {},
   "outputs": [
    {
     "data": {
      "text/html": [
       "<div>\n",
       "<style scoped>\n",
       "    .dataframe tbody tr th:only-of-type {\n",
       "        vertical-align: middle;\n",
       "    }\n",
       "\n",
       "    .dataframe tbody tr th {\n",
       "        vertical-align: top;\n",
       "    }\n",
       "\n",
       "    .dataframe thead th {\n",
       "        text-align: right;\n",
       "    }\n",
       "</style>\n",
       "<table border=\"1\" class=\"dataframe\">\n",
       "  <thead>\n",
       "    <tr style=\"text-align: right;\">\n",
       "      <th></th>\n",
       "      <th>States</th>\n",
       "      <th>Case0</th>\n",
       "      <th>Case1</th>\n",
       "      <th>Case2</th>\n",
       "      <th>Case3</th>\n",
       "      <th>Case4</th>\n",
       "      <th>Case5</th>\n",
       "      <th>Case6</th>\n",
       "      <th>Case7</th>\n",
       "      <th>Case8</th>\n",
       "      <th>Case9</th>\n",
       "    </tr>\n",
       "  </thead>\n",
       "  <tbody>\n",
       "    <tr>\n",
       "      <th>0</th>\n",
       "      <td>{}</td>\n",
       "      <td>(99.5, 0.775)</td>\n",
       "      <td>(99.5, 0.775)</td>\n",
       "      <td>(99.5, 0.775)</td>\n",
       "      <td>(99.5, 0.775)</td>\n",
       "      <td>(99.5, 0.775)</td>\n",
       "      <td>(99.5, 0.775)</td>\n",
       "      <td>(99.5, 0.775)</td>\n",
       "      <td>(99.5, 0.775)</td>\n",
       "      <td>(99.5, 0.775)</td>\n",
       "      <td>(99.5, 0.775)</td>\n",
       "    </tr>\n",
       "    <tr>\n",
       "      <th>1</th>\n",
       "      <td>{(I, 1)}</td>\n",
       "      <td>(98.5, 0.775)</td>\n",
       "      <td>(98.5, 0.775)</td>\n",
       "      <td>(98.5, 0.775)</td>\n",
       "      <td>(98.5, 0.775)</td>\n",
       "      <td>(98.5, 0.775)</td>\n",
       "      <td>(98.5, 0.775)</td>\n",
       "      <td>(98.5, 0.775)</td>\n",
       "      <td>(98.5, 0.775)</td>\n",
       "      <td>(98.5, 0.775)</td>\n",
       "      <td>(98.5, 0.775)</td>\n",
       "    </tr>\n",
       "    <tr>\n",
       "      <th>2</th>\n",
       "      <td>{(M, 1), (I, 1)}</td>\n",
       "      <td>(60.0, 0.775)</td>\n",
       "      <td>(60.0, 0.775)</td>\n",
       "      <td>(60.0, 0.775)</td>\n",
       "      <td>(60.0, 0.775)</td>\n",
       "      <td>(60.0, 0.775)</td>\n",
       "      <td>(60.0, 0.775)</td>\n",
       "      <td>(60.0, 0.775)</td>\n",
       "      <td>(60.0, 0.775)</td>\n",
       "      <td>(60.0, 0.775)</td>\n",
       "      <td>(60.0, 0.775)</td>\n",
       "    </tr>\n",
       "    <tr>\n",
       "      <th>3</th>\n",
       "      <td>{(M, 2), (I, 1)}</td>\n",
       "      <td>(40.0, 0.82)</td>\n",
       "      <td>(40.0, 0.82)</td>\n",
       "      <td>(40.0, 0.82)</td>\n",
       "      <td>(40.0, 0.82)</td>\n",
       "      <td>None</td>\n",
       "      <td>None</td>\n",
       "      <td>(40.0, 0.82)</td>\n",
       "      <td>None</td>\n",
       "      <td>None</td>\n",
       "      <td>None</td>\n",
       "    </tr>\n",
       "    <tr>\n",
       "      <th>4</th>\n",
       "      <td>{(F, 1), (M, 2), (I, 1)}</td>\n",
       "      <td>(16.25, 0.8)</td>\n",
       "      <td>(16.25, 0.8)</td>\n",
       "      <td>(16.25, 0.8)</td>\n",
       "      <td>None</td>\n",
       "      <td>None</td>\n",
       "      <td>None</td>\n",
       "      <td>(16.25, 0.8)</td>\n",
       "      <td>None</td>\n",
       "      <td>(20.0, 0.6)</td>\n",
       "      <td>None</td>\n",
       "    </tr>\n",
       "    <tr>\n",
       "      <th>5</th>\n",
       "      <td>{(F, 1), (M, 3), (I, 1)}</td>\n",
       "      <td>(7.5, 0.7)</td>\n",
       "      <td>None</td>\n",
       "      <td>None</td>\n",
       "      <td>None</td>\n",
       "      <td>None</td>\n",
       "      <td>None</td>\n",
       "      <td>(7.5, 0.7)</td>\n",
       "      <td>None</td>\n",
       "      <td>(15.0, 0.6)</td>\n",
       "      <td>None</td>\n",
       "    </tr>\n",
       "    <tr>\n",
       "      <th>6</th>\n",
       "      <td>{(F, 1), (S, 1), (M, 3), (I, 1)}</td>\n",
       "      <td>(0.0, 0.7)</td>\n",
       "      <td>None</td>\n",
       "      <td>None</td>\n",
       "      <td>None</td>\n",
       "      <td>None</td>\n",
       "      <td>None</td>\n",
       "      <td>(0.0, 0.7)</td>\n",
       "      <td>None</td>\n",
       "      <td>(0.0, 0.6)</td>\n",
       "      <td>None</td>\n",
       "    </tr>\n",
       "    <tr>\n",
       "      <th>7</th>\n",
       "      <td>{(F, 1), (M, 2), (R, 1), (I, 1)}</td>\n",
       "      <td>None</td>\n",
       "      <td>(5.0, 0.8999999999999999)</td>\n",
       "      <td>(5.0, 0.8999999999999999)</td>\n",
       "      <td>(10.0, 0.9)</td>\n",
       "      <td>None</td>\n",
       "      <td>None</td>\n",
       "      <td>None</td>\n",
       "      <td>None</td>\n",
       "      <td>None</td>\n",
       "      <td>None</td>\n",
       "    </tr>\n",
       "    <tr>\n",
       "      <th>8</th>\n",
       "      <td>{(F, 1), (R, 1), (S, 1), (M, 2), (I, 1)}</td>\n",
       "      <td>None</td>\n",
       "      <td>(0.0, 0.8999999999999999)</td>\n",
       "      <td>(0.0, 0.8999999999999999)</td>\n",
       "      <td>(0.0, 0.9)</td>\n",
       "      <td>None</td>\n",
       "      <td>None</td>\n",
       "      <td>None</td>\n",
       "      <td>None</td>\n",
       "      <td>None</td>\n",
       "      <td>None</td>\n",
       "    </tr>\n",
       "    <tr>\n",
       "      <th>9</th>\n",
       "      <td>{(M, 2), (R, 1), (I, 1)}</td>\n",
       "      <td>None</td>\n",
       "      <td>None</td>\n",
       "      <td>None</td>\n",
       "      <td>(20.0, 0.9)</td>\n",
       "      <td>None</td>\n",
       "      <td>None</td>\n",
       "      <td>None</td>\n",
       "      <td>(10.0, 0.7)</td>\n",
       "      <td>None</td>\n",
       "      <td>None</td>\n",
       "    </tr>\n",
       "    <tr>\n",
       "      <th>10</th>\n",
       "      <td>{(R, 1), (M, 1), (I, 1)}</td>\n",
       "      <td>None</td>\n",
       "      <td>None</td>\n",
       "      <td>None</td>\n",
       "      <td>None</td>\n",
       "      <td>(38.333333333333336, 0.75)</td>\n",
       "      <td>(38.333333333333336, 0.75)</td>\n",
       "      <td>None</td>\n",
       "      <td>(38.333333333333336, 0.75)</td>\n",
       "      <td>None</td>\n",
       "      <td>None</td>\n",
       "    </tr>\n",
       "    <tr>\n",
       "      <th>11</th>\n",
       "      <td>{(F, 1), (R, 1), (M, 1), (I, 1)}</td>\n",
       "      <td>None</td>\n",
       "      <td>None</td>\n",
       "      <td>None</td>\n",
       "      <td>None</td>\n",
       "      <td>(15.0, 0.775)</td>\n",
       "      <td>(15.0, 0.775)</td>\n",
       "      <td>None</td>\n",
       "      <td>None</td>\n",
       "      <td>None</td>\n",
       "      <td>(15.0, 0.8)</td>\n",
       "    </tr>\n",
       "    <tr>\n",
       "      <th>12</th>\n",
       "      <td>{(F, 1), (R, 1), (S, 1), (M, 1), (I, 1)}</td>\n",
       "      <td>None</td>\n",
       "      <td>None</td>\n",
       "      <td>None</td>\n",
       "      <td>None</td>\n",
       "      <td>(0.0, 0.775)</td>\n",
       "      <td>(0.0, 0.775)</td>\n",
       "      <td>None</td>\n",
       "      <td>None</td>\n",
       "      <td>None</td>\n",
       "      <td>(0.0, 0.8)</td>\n",
       "    </tr>\n",
       "    <tr>\n",
       "      <th>13</th>\n",
       "      <td>{(M, 2), (R, 1), (S, 1), (I, 1)}</td>\n",
       "      <td>None</td>\n",
       "      <td>None</td>\n",
       "      <td>None</td>\n",
       "      <td>None</td>\n",
       "      <td>None</td>\n",
       "      <td>None</td>\n",
       "      <td>None</td>\n",
       "      <td>(0.0, 0.7)</td>\n",
       "      <td>None</td>\n",
       "      <td>None</td>\n",
       "    </tr>\n",
       "    <tr>\n",
       "      <th>14</th>\n",
       "      <td>{(F, 1), (M, 1), (I, 1)}</td>\n",
       "      <td>None</td>\n",
       "      <td>None</td>\n",
       "      <td>None</td>\n",
       "      <td>None</td>\n",
       "      <td>None</td>\n",
       "      <td>None</td>\n",
       "      <td>None</td>\n",
       "      <td>None</td>\n",
       "      <td>(37.5, 0.7)</td>\n",
       "      <td>(37.5, 0.7)</td>\n",
       "    </tr>\n",
       "  </tbody>\n",
       "</table>\n",
       "</div>"
      ],
      "text/plain": [
       "                                      States          Case0  \\\n",
       "0                                         {}  (99.5, 0.775)   \n",
       "1                                   {(I, 1)}  (98.5, 0.775)   \n",
       "2                           {(M, 1), (I, 1)}  (60.0, 0.775)   \n",
       "3                           {(M, 2), (I, 1)}   (40.0, 0.82)   \n",
       "4                   {(F, 1), (M, 2), (I, 1)}   (16.25, 0.8)   \n",
       "5                   {(F, 1), (M, 3), (I, 1)}     (7.5, 0.7)   \n",
       "6           {(F, 1), (S, 1), (M, 3), (I, 1)}     (0.0, 0.7)   \n",
       "7           {(F, 1), (M, 2), (R, 1), (I, 1)}           None   \n",
       "8   {(F, 1), (R, 1), (S, 1), (M, 2), (I, 1)}           None   \n",
       "9                   {(M, 2), (R, 1), (I, 1)}           None   \n",
       "10                  {(R, 1), (M, 1), (I, 1)}           None   \n",
       "11          {(F, 1), (R, 1), (M, 1), (I, 1)}           None   \n",
       "12  {(F, 1), (R, 1), (S, 1), (M, 1), (I, 1)}           None   \n",
       "13          {(M, 2), (R, 1), (S, 1), (I, 1)}           None   \n",
       "14                  {(F, 1), (M, 1), (I, 1)}           None   \n",
       "\n",
       "                        Case1                      Case2          Case3  \\\n",
       "0               (99.5, 0.775)              (99.5, 0.775)  (99.5, 0.775)   \n",
       "1               (98.5, 0.775)              (98.5, 0.775)  (98.5, 0.775)   \n",
       "2               (60.0, 0.775)              (60.0, 0.775)  (60.0, 0.775)   \n",
       "3                (40.0, 0.82)               (40.0, 0.82)   (40.0, 0.82)   \n",
       "4                (16.25, 0.8)               (16.25, 0.8)           None   \n",
       "5                        None                       None           None   \n",
       "6                        None                       None           None   \n",
       "7   (5.0, 0.8999999999999999)  (5.0, 0.8999999999999999)    (10.0, 0.9)   \n",
       "8   (0.0, 0.8999999999999999)  (0.0, 0.8999999999999999)     (0.0, 0.9)   \n",
       "9                        None                       None    (20.0, 0.9)   \n",
       "10                       None                       None           None   \n",
       "11                       None                       None           None   \n",
       "12                       None                       None           None   \n",
       "13                       None                       None           None   \n",
       "14                       None                       None           None   \n",
       "\n",
       "                         Case4                       Case5          Case6  \\\n",
       "0                (99.5, 0.775)               (99.5, 0.775)  (99.5, 0.775)   \n",
       "1                (98.5, 0.775)               (98.5, 0.775)  (98.5, 0.775)   \n",
       "2                (60.0, 0.775)               (60.0, 0.775)  (60.0, 0.775)   \n",
       "3                         None                        None   (40.0, 0.82)   \n",
       "4                         None                        None   (16.25, 0.8)   \n",
       "5                         None                        None     (7.5, 0.7)   \n",
       "6                         None                        None     (0.0, 0.7)   \n",
       "7                         None                        None           None   \n",
       "8                         None                        None           None   \n",
       "9                         None                        None           None   \n",
       "10  (38.333333333333336, 0.75)  (38.333333333333336, 0.75)           None   \n",
       "11               (15.0, 0.775)               (15.0, 0.775)           None   \n",
       "12                (0.0, 0.775)                (0.0, 0.775)           None   \n",
       "13                        None                        None           None   \n",
       "14                        None                        None           None   \n",
       "\n",
       "                         Case7          Case8          Case9  \n",
       "0                (99.5, 0.775)  (99.5, 0.775)  (99.5, 0.775)  \n",
       "1                (98.5, 0.775)  (98.5, 0.775)  (98.5, 0.775)  \n",
       "2                (60.0, 0.775)  (60.0, 0.775)  (60.0, 0.775)  \n",
       "3                         None           None           None  \n",
       "4                         None    (20.0, 0.6)           None  \n",
       "5                         None    (15.0, 0.6)           None  \n",
       "6                         None     (0.0, 0.6)           None  \n",
       "7                         None           None           None  \n",
       "8                         None           None           None  \n",
       "9                  (10.0, 0.7)           None           None  \n",
       "10  (38.333333333333336, 0.75)           None           None  \n",
       "11                        None           None    (15.0, 0.8)  \n",
       "12                        None           None     (0.0, 0.8)  \n",
       "13                  (0.0, 0.7)           None           None  \n",
       "14                        None    (37.5, 0.7)    (37.5, 0.7)  "
      ]
     },
     "execution_count": 20,
     "metadata": {},
     "output_type": "execute_result"
    }
   ],
   "source": [
    "cluster_table2"
   ]
  },
  {
   "cell_type": "code",
   "execution_count": null,
   "metadata": {},
   "outputs": [],
   "source": []
  },
  {
   "cell_type": "code",
   "execution_count": 21,
   "metadata": {},
   "outputs": [],
   "source": [
    "df_to_latex(cluster_table2, \"cluster_table2.tex\")"
   ]
  },
  {
   "cell_type": "code",
   "execution_count": 22,
   "metadata": {},
   "outputs": [],
   "source": [
    "#returns positions of None in a vector \n",
    "def getNones(vector):\n",
    "    length = len(vector)\n",
    "    no_nones = [item for item in vector if item is not None]\n",
    "    pos_no_none = []\n",
    "    for elem in set(no_nones):\n",
    "        posi = [i for i in range(length) if vector[i] == elem]\n",
    "        pos_no_none.extend(posi)\n",
    "    pos_nones = (set(range(length)) - set(pos_no_none))\n",
    "    return pos_nones\n",
    "\n",
    "#given vector [(i1,j1),...,(in,jn)] returns [i1,..,in,...,j1,...,jn]\n",
    "def vector(vector_of_tuples):\n",
    "    pos_nones = getNones(vector_of_tuples)\n",
    "    p0 = []\n",
    "    p1 = []\n",
    "    length = len(vector_of_tuples)\n",
    "    for i in range(length):\n",
    "        if i in pos_nones:\n",
    "            p0.insert(i,None)\n",
    "            #if None in position i (for first entry), then also in position i+length (second entry)\n",
    "            p1.insert(i+length,None) \n",
    "        else:\n",
    "            p0.insert(i,vector_of_tuples[i][0])\n",
    "            p1.insert(i,vector_of_tuples[i][1])\n",
    "            \n",
    "    vector = p0 + p1\n",
    "    return vector"
   ]
  },
  {
   "cell_type": "code",
   "execution_count": 23,
   "metadata": {},
   "outputs": [],
   "source": [
    "#def getMaxValues():    \n",
    "    \n",
    "all_vectors = []\n",
    "no_cols = len(cluster_table2.columns[1:])\n",
    "for i in range(1,no_cols+1):\n",
    "    column = cluster_table2.iloc[:,i].tolist()\n",
    "    v = vector(column)\n",
    "    all_vectors.append(v)\n",
    "\n",
    "entries1max = []\n",
    "entries2max = []\n",
    "entries1min = []\n",
    "entries2min = []\n",
    "\n",
    "for v in all_vectors:\n",
    "    no_nones = [item for item in v if item is not None]\n",
    "    l = int(len(no_nones)/2)\n",
    "    v1 = no_nones[:l]\n",
    "    v2 = no_nones[l:]\n",
    "    entries1max.append(max(v1))\n",
    "    entries1min.append(min(v1))\n",
    "    entries2max.append(max(v2))\n",
    "    entries2min.append(min(v2))\n",
    "\n",
    "max0 = max(entries1max)\n",
    "min0 = min(entries1min)\n",
    "max1 = max(entries2max)\n",
    "min1 = min(entries2min)\n",
    "\n",
    "    #return (max0,max1)\n",
    "\n",
    "\n",
    "#knowing the maximal values, we normalize each input vector of length 2*no_of_states\n",
    "def normalize(vector,max0,max1,min0,min1): \n",
    "    \n",
    "    v_normalized = []\n",
    "    pos_nones = getNones(vector)\n",
    "    \n",
    "    for i in range(len(vector)):\n",
    "        if i in pos_nones:\n",
    "            v_normalized.insert(i,None)\n",
    "        else:\n",
    "            if i < int(len(vector)/2):\n",
    "                entry = (vector[i]-min0)/(max0-min0)\n",
    "                v_normalized.insert(i,entry)\n",
    "            else:\n",
    "                entry = (vector[i]-min1)/(max1-min1)\n",
    "                v_normalized.insert(i,entry)      \n",
    "    return v_normalized  \n",
    "\n",
    "#distance between two vectors of length 2*no_states\n",
    "def distance(vector1,vector2):\n",
    "    distances1 = []\n",
    "    distances2 = []\n",
    "    \n",
    "    length = len(vector1)\n",
    "    if length!=len(vector2):\n",
    "        return \"Vectors do not have the same length!\"\n",
    "    else:\n",
    "        pos_nones1 = getNones(vector1)\n",
    "        pos_nones2 = getNones(vector2)\n",
    "        \n",
    "        common_nones = set(pos_nones1)&set(pos_nones2)\n",
    "        v1_only_nones = set(pos_nones1)-set(pos_nones2)\n",
    "        v2_only_nones = set(pos_nones2)-set(pos_nones1)\n",
    "    \n",
    "        for i in range(length):\n",
    "            if i < int(length/2):\n",
    "                if i in common_nones:\n",
    "                    distances1.insert(i,0.0)\n",
    "                else:\n",
    "                    if i in v1_only_nones or i in v2_only_nones:\n",
    "                        distances1.insert(i,2)\n",
    "                    else:\n",
    "                        d = (vector1[i]-vector2[i])**2\n",
    "                        distances1.insert(i,d)\n",
    "            else:\n",
    "                if i in common_nones:\n",
    "                    distances2.insert(i,0.0)\n",
    "                else:\n",
    "                    if i in v1_only_nones or i in v2_only_nones:\n",
    "                        distances2.insert(i,2)\n",
    "                    else:\n",
    "                        d = (vector1[i]-vector2[i])**2\n",
    "                        distances2.insert(i,d)\n",
    "                        \n",
    "    #we find euclidian distance for first half (remaining time) and second half (final grade) \n",
    "    #and then calculate weighted average for overall distance\n",
    "    return 0.5*np.sqrt(sum(distances1))+0.5*np.sqrt(sum(distances2)) "
   ]
  },
  {
   "cell_type": "code",
   "execution_count": 24,
   "metadata": {},
   "outputs": [],
   "source": [
    "#returns list of vectors with index in selected indices\n",
    "def selectVectors(selected_indices,all_vectors):\n",
    "    selected = []\n",
    "    for i in selected_indices:\n",
    "        selected.append(all_vectors[i])\n",
    "    return selected\n",
    "\n",
    "#find mean of a list of vectors\n",
    "#def find_mean(vectors):\n",
    "    \n",
    "    #assuming all have same length\n",
    "    #length = len(vectors[0])\n",
    "    #no_vectors = len(vectors)\n",
    "    #nones = []\n",
    "    #mean = []\n",
    "    #for v in vectors:\n",
    "        #nones.extend(getNones(v))\n",
    "    #nones_set = set(nones)\n",
    "    \n",
    "    #for i in range(length):\n",
    "        #if i in nones_set:\n",
    "            #mean.insert(i,None)\n",
    "        #else:\n",
    "            #pos_i = [v[i] for v in vectors]\n",
    "            #print(pos_i)\n",
    "            #avg = sum(pos_i)/no_vectors\n",
    "            #print(avg)\n",
    "            #mean.insert(i,avg)\n",
    "    #return mean\n",
    "\n",
    "\n",
    "def find_mean(vectors):\n",
    "    \n",
    "    length = len(vectors[0])\n",
    "    no_vectors = len(vectors)\n",
    "    #list of lists each entry i a list of positions of None for vectors[i]\n",
    "    nones = []\n",
    "    mean = []\n",
    "    nones_per_pos = []\n",
    "    \n",
    "    for k in range(no_vectors):\n",
    "        nones.append(getNones(vectors[k]))\n",
    "\n",
    "    #for each position of vector, we save the index of vectors where it appears    \n",
    "    for i in range(length):\n",
    "        nones_i = [j for j, elem in enumerate(nones) if i in elem]\n",
    "        #nones_per_pos.insert(i,nones_i)\n",
    "        values_i = list(set(range(len(nones)))-set(nones_i))\n",
    "        if values_i != []:\n",
    "            selected = selectVectors(values_i,vectors)\n",
    "            summ = sum([s[i] for s in selected])\n",
    "            entry = summ/len(values_i)\n",
    "            mean.insert(i,entry)\n",
    "        else:\n",
    "            mean.insert(i,None)\n",
    "        \n",
    "    return mean\n",
    "    \n",
    "    \n",
    "    \n",
    "#measure variance in a set of vectors and return standard deviation\n",
    "def variance_cluster(indices,all_vectors):\n",
    "    vectors = selectVectors(indices,all_vectors)\n",
    "    cluster_mean = find_mean(vectors)\n",
    "    length = len(indices)\n",
    "    squared_distances = []\n",
    "    for i in range(length):\n",
    "        dist_i = distance(vectors[i],cluster_mean)\n",
    "        squared_distances.append(dist_i**2)\n",
    "    var = sum(squared_distances)/length\n",
    "    return var \n",
    "\n",
    "\n",
    "#returns weighted mean of the variances in the given two partitions\n",
    "def mean_variance(partition_pair,all_vectors):\n",
    "    \n",
    "    all_indices = partition_pair[0] + partition_pair[1]\n",
    "    length = len(all_indices)\n",
    "    len1 = len(partition_pair[0])\n",
    "    len2 = len(partition_pair[1])\n",
    "    #groups = selectVectors(all_indices,all_vectors)\n",
    "    #group1 = selectVectors(partition_pair[0],groups)\n",
    "    #group2 = selectVectors(partition_pair[1],groups)\n",
    "    \n",
    "    var1 = variance_cluster(partition_pair[0],all_vectors)\n",
    "    var2 = variance_cluster(partition_pair[1],all_vectors)\n",
    "    \n",
    "    weighted_var = (len1/length)*var1 + (len2/length)*var2\n",
    "    return weighted_var"
   ]
  },
  {
   "cell_type": "code",
   "execution_count": 25,
   "metadata": {},
   "outputs": [],
   "source": [
    "#partition vectors with index in indices on single condition (string1=column name, string2 = value)\n",
    "def divide_condition(indices,condition):\n",
    "    \n",
    "    col_name = condition[0]\n",
    "    value = condition[1]\n",
    "    \n",
    "    indices_true = data.index[data[col_name] == value].tolist()\n",
    "    indices_false = list(set(indices)-set(indices_true))\n",
    "    \n",
    "    return(indices_true,indices_false)\n",
    "\n",
    "#partition vectors with index in indices based on a list of conditions\n",
    "def divide(indices,conditions):\n",
    "    \n",
    "    satisfying_all = indices\n",
    "    \n",
    "    for i in range(len(conditions)):\n",
    "        if satisfying_all != []:\n",
    "            division_i = divide_condition(satisfying_all,conditions[i])\n",
    "            satisfying_all = list(set(satisfying_all)-set(division_i[1]))\n",
    "        else:\n",
    "            return ([],indices)\n",
    "    \n",
    "    indices_true = satisfying_all\n",
    "    indices_false = list((set(indices)-set(indices_true)))\n",
    "    \n",
    "    return(indices_true,indices_false)"
   ]
  },
  {
   "cell_type": "code",
   "execution_count": 26,
   "metadata": {},
   "outputs": [
    {
     "data": {
      "text/plain": [
       "4.272751582596036"
      ]
     },
     "execution_count": 26,
     "metadata": {},
     "output_type": "execute_result"
    }
   ],
   "source": [
    "variance_cluster([1,2,3],all_vectors)"
   ]
  },
  {
   "cell_type": "code",
   "execution_count": 27,
   "metadata": {},
   "outputs": [
    {
     "data": {
      "text/plain": [
       "7.872518767553991"
      ]
     },
     "execution_count": 27,
     "metadata": {},
     "output_type": "execute_result"
    }
   ],
   "source": [
    "variance_cluster([0,1,2,3],all_vectors)"
   ]
  },
  {
   "cell_type": "code",
   "execution_count": 28,
   "metadata": {},
   "outputs": [
    {
     "data": {
      "text/plain": [
       "7.756869201747773"
      ]
     },
     "execution_count": 28,
     "metadata": {},
     "output_type": "execute_result"
    }
   ],
   "source": [
    "variance_cluster([0,6,8],all_vectors)"
   ]
  },
  {
   "cell_type": "code",
   "execution_count": 29,
   "metadata": {},
   "outputs": [
    {
     "data": {
      "text/plain": [
       "12.537428301380316"
      ]
     },
     "execution_count": 29,
     "metadata": {},
     "output_type": "execute_result"
    }
   ],
   "source": [
    "mean_variance(([1,2,3],[0,4,5,6,7,8,9]),all_vectors)"
   ]
  },
  {
   "cell_type": "code",
   "execution_count": 30,
   "metadata": {},
   "outputs": [
    {
     "data": {
      "text/plain": [
       "12.71386104542499"
      ]
     },
     "execution_count": 30,
     "metadata": {},
     "output_type": "execute_result"
    }
   ],
   "source": [
    "mean_variance(([0,1,2,3],[4,5,6,7,8,9]),all_vectors)"
   ]
  },
  {
   "cell_type": "code",
   "execution_count": 31,
   "metadata": {},
   "outputs": [
    {
     "data": {
      "text/plain": [
       "14.396572609137284"
      ]
     },
     "execution_count": 31,
     "metadata": {},
     "output_type": "execute_result"
    }
   ],
   "source": [
    "mean_variance(([0,6,8],[3,4,5,1,7,2,9]),all_vectors)"
   ]
  },
  {
   "cell_type": "code",
   "execution_count": 32,
   "metadata": {},
   "outputs": [
    {
     "data": {
      "text/plain": [
       "18.2439303924999"
      ]
     },
     "execution_count": 32,
     "metadata": {},
     "output_type": "execute_result"
    }
   ],
   "source": [
    "mean_variance(([6,8],[0,3,4,5,1,7,2,9]),all_vectors)"
   ]
  },
  {
   "cell_type": "code",
   "execution_count": 33,
   "metadata": {},
   "outputs": [
    {
     "data": {
      "text/plain": [
       "8.430392056256746"
      ]
     },
     "execution_count": 33,
     "metadata": {},
     "output_type": "execute_result"
    }
   ],
   "source": [
    "mean_variance(([4,5,9],[1,2,3,7]),all_vectors) "
   ]
  },
  {
   "cell_type": "code",
   "execution_count": 34,
   "metadata": {},
   "outputs": [
    {
     "data": {
      "text/plain": [
       "2.000138885272451"
      ]
     },
     "execution_count": 34,
     "metadata": {},
     "output_type": "execute_result"
    }
   ],
   "source": [
    "variance_cluster([4,5,9],all_vectors)"
   ]
  },
  {
   "cell_type": "code",
   "execution_count": 35,
   "metadata": {},
   "outputs": [
    {
     "data": {
      "text/plain": [
       "19.419585140231813"
      ]
     },
     "execution_count": 35,
     "metadata": {},
     "output_type": "execute_result"
    }
   ],
   "source": [
    "variance_cluster([0,1,2,3,6,7,8],all_vectors)"
   ]
  },
  {
   "cell_type": "code",
   "execution_count": 36,
   "metadata": {},
   "outputs": [
    {
     "data": {
      "text/plain": [
       "9.524812712289766"
      ]
     },
     "execution_count": 36,
     "metadata": {},
     "output_type": "execute_result"
    }
   ],
   "source": [
    "mean_variance(([1,2,3],[0,6,7,8]),all_vectors)"
   ]
  },
  {
   "cell_type": "code",
   "execution_count": 37,
   "metadata": {},
   "outputs": [
    {
     "data": {
      "text/plain": [
       "10.878134711914976"
      ]
     },
     "execution_count": 37,
     "metadata": {},
     "output_type": "execute_result"
    }
   ],
   "source": [
    "mean_variance(([0,1,2,3,6,8],[7]),all_vectors)"
   ]
  },
  {
   "cell_type": "code",
   "execution_count": 38,
   "metadata": {},
   "outputs": [
    {
     "data": {
      "text/plain": [
       "10.897562191889028"
      ]
     },
     "execution_count": 38,
     "metadata": {},
     "output_type": "execute_result"
    }
   ],
   "source": [
    "mean_variance(([1,2,3,7],[0,6,8]),all_vectors)"
   ]
  },
  {
   "cell_type": "code",
   "execution_count": 39,
   "metadata": {},
   "outputs": [
    {
     "data": {
      "text/plain": [
       "5.81765190131083"
      ]
     },
     "execution_count": 39,
     "metadata": {},
     "output_type": "execute_result"
    }
   ],
   "source": [
    "mean_variance(([7],[0,6,8]),all_vectors)"
   ]
  },
  {
   "cell_type": "code",
   "execution_count": 40,
   "metadata": {},
   "outputs": [
    {
     "data": {
      "text/plain": [
       "13.463858559560062"
      ]
     },
     "execution_count": 40,
     "metadata": {},
     "output_type": "execute_result"
    }
   ],
   "source": [
    "variance_cluster([0,6,8,7],all_vectors)"
   ]
  },
  {
   "cell_type": "code",
   "execution_count": 41,
   "metadata": {},
   "outputs": [
    {
     "name": "stdout",
     "output_type": "stream",
     "text": [
      "First partition: ([9, 4, 5], [0, 1, 2, 3, 6, 7, 8])\n"
     ]
    }
   ],
   "source": [
    "partition1 = divide(range(len(all_vectors)),[(\"Field\",\"SE\"),(\"Supervisor\",\"Brown\")])\n",
    "print(\"First partition:\",partition1)"
   ]
  },
  {
   "cell_type": "code",
   "execution_count": 42,
   "metadata": {},
   "outputs": [
    {
     "name": "stdout",
     "output_type": "stream",
     "text": [
      "Second partition: ([1, 2, 3], [0, 8, 6, 7])\n"
     ]
    }
   ],
   "source": [
    "partition2 = divide(partition1[1],[(\"Field\",\"DS\"),(\"PK\",\"high\")])\n",
    "print(\"Second partition:\",partition2)"
   ]
  },
  {
   "cell_type": "code",
   "execution_count": 43,
   "metadata": {},
   "outputs": [
    {
     "name": "stdout",
     "output_type": "stream",
     "text": [
      "Third partition: ([7], [0, 8, 6])\n"
     ]
    }
   ],
   "source": [
    "partition3 = divide(partition2[1],[(\"PK\",\"high\")])\n",
    "print(\"Third partition:\",partition3)"
   ]
  },
  {
   "cell_type": "code",
   "execution_count": 44,
   "metadata": {},
   "outputs": [
    {
     "name": "stdout",
     "output_type": "stream",
     "text": [
      "Variance after applying condition 1: 14.193751263744003\n",
      "Variance after applying condition 2: 9.524812712289766\n",
      "Variance after applying condition 3: 5.81765190131083\n"
     ]
    }
   ],
   "source": [
    "var1 = mean_variance(partition1,all_vectors)\n",
    "var2 = mean_variance(partition2,all_vectors)\n",
    "var3 = mean_variance(partition3,all_vectors)\n",
    "\n",
    "print(\"Variance after applying condition 1:\", var1)\n",
    "print(\"Variance after applying condition 2:\", var2)\n",
    "print(\"Variance after applying condition 3:\", var3)"
   ]
  },
  {
   "cell_type": "code",
   "execution_count": 45,
   "metadata": {},
   "outputs": [
    {
     "data": {
      "text/html": [
       "<div>\n",
       "<style scoped>\n",
       "    .dataframe tbody tr th:only-of-type {\n",
       "        vertical-align: middle;\n",
       "    }\n",
       "\n",
       "    .dataframe tbody tr th {\n",
       "        vertical-align: top;\n",
       "    }\n",
       "\n",
       "    .dataframe thead th {\n",
       "        text-align: right;\n",
       "    }\n",
       "</style>\n",
       "<table border=\"1\" class=\"dataframe\">\n",
       "  <thead>\n",
       "    <tr style=\"text-align: right;\">\n",
       "      <th></th>\n",
       "      <th>State</th>\n",
       "      <th>Multiset of predictions</th>\n",
       "      <th>Annotation</th>\n",
       "    </tr>\n",
       "  </thead>\n",
       "  <tbody>\n",
       "    <tr>\n",
       "      <th>0</th>\n",
       "      <td>{}</td>\n",
       "      <td>[(105, 0.8), (100, 0.75), (95, 0.8)]</td>\n",
       "      <td>(100, 0.78)</td>\n",
       "    </tr>\n",
       "    <tr>\n",
       "      <th>1</th>\n",
       "      <td>{(I, 1)}</td>\n",
       "      <td>[(104, 0.8), (99, 0.75), (94, 0.8)]</td>\n",
       "      <td>(99, 0.78)</td>\n",
       "    </tr>\n",
       "    <tr>\n",
       "      <th>2</th>\n",
       "      <td>{(M, 1), (I, 1)}</td>\n",
       "      <td>[(60, 0.8), (55, 0.75), (55, 0.8)]</td>\n",
       "      <td>(56.67, 0.78)</td>\n",
       "    </tr>\n",
       "    <tr>\n",
       "      <th>3</th>\n",
       "      <td>{(R, 1), (M, 1), (I, 1)}</td>\n",
       "      <td>[(45, 0.8), (30, 0.75)]</td>\n",
       "      <td>(37.5, 0.775)</td>\n",
       "    </tr>\n",
       "    <tr>\n",
       "      <th>4</th>\n",
       "      <td>{(F, 1), (M, 1), (I, 1)}</td>\n",
       "      <td>[(35, 0.8)]</td>\n",
       "      <td>(35, 0.8)</td>\n",
       "    </tr>\n",
       "    <tr>\n",
       "      <th>5</th>\n",
       "      <td>{(F, 1), (R, 1), (M, 1), (I, 1)}</td>\n",
       "      <td>[(20, 0.8), (10, 0.75), (15, 0.8)]</td>\n",
       "      <td>(15, 0.78)</td>\n",
       "    </tr>\n",
       "    <tr>\n",
       "      <th>6</th>\n",
       "      <td>{(F, 1), (R, 1), (S, 1), (M, 1), (I, 1)}</td>\n",
       "      <td>[(0, 0.8), (0, 0.75), (0, 0.8)]</td>\n",
       "      <td>(0, 0.78)</td>\n",
       "    </tr>\n",
       "  </tbody>\n",
       "</table>\n",
       "</div>"
      ],
      "text/plain": [
       "                                      State  \\\n",
       "0                                        {}   \n",
       "1                                  {(I, 1)}   \n",
       "2                          {(M, 1), (I, 1)}   \n",
       "3                  {(R, 1), (M, 1), (I, 1)}   \n",
       "4                  {(F, 1), (M, 1), (I, 1)}   \n",
       "5          {(F, 1), (R, 1), (M, 1), (I, 1)}   \n",
       "6  {(F, 1), (R, 1), (S, 1), (M, 1), (I, 1)}   \n",
       "\n",
       "                Multiset of predictions     Annotation  \n",
       "0  [(105, 0.8), (100, 0.75), (95, 0.8)]    (100, 0.78)  \n",
       "1   [(104, 0.8), (99, 0.75), (94, 0.8)]     (99, 0.78)  \n",
       "2    [(60, 0.8), (55, 0.75), (55, 0.8)]  (56.67, 0.78)  \n",
       "3               [(45, 0.8), (30, 0.75)]  (37.5, 0.775)  \n",
       "4                           [(35, 0.8)]      (35, 0.8)  \n",
       "5    [(20, 0.8), (10, 0.75), (15, 0.8)]     (15, 0.78)  \n",
       "6       [(0, 0.8), (0, 0.75), (0, 0.8)]      (0, 0.78)  "
      ]
     },
     "execution_count": 45,
     "metadata": {},
     "output_type": "execute_result"
    }
   ],
   "source": [
    "states1 = pd.DataFrame(columns=['State','Multiset of predictions', 'Annotation'])\n",
    "states1['State'] = [states[0],states[1],states[2],states[10],states[14],states[11],states[12]]\n",
    "states1['Multiset of predictions'] = [[(105,0.8),(100,0.75),(95,0.8)], [(104,0.8),(99,0.75),(94,0.8)], [(60,0.8),(55,0.75),(55,0.8)], [(45,0.8),(30,0.75)], [(35,0.8)], [(20,0.8),(10,0.75),(15,0.8)],[(0,0.8),(0,0.75),(0,0.8)]]\n",
    "states1['Annotation'] = [(100,0.78),(99,0.78),(56.67,0.78),(37.5,0.775),(35,0.8),(15,0.78),(0,0.78)]\n",
    "states1"
   ]
  },
  {
   "cell_type": "code",
   "execution_count": 46,
   "metadata": {},
   "outputs": [],
   "source": [
    "df_to_latex(states1, \"states1.tex\")"
   ]
  },
  {
   "cell_type": "code",
   "execution_count": 47,
   "metadata": {},
   "outputs": [
    {
     "data": {
      "text/html": [
       "<div>\n",
       "<style scoped>\n",
       "    .dataframe tbody tr th:only-of-type {\n",
       "        vertical-align: middle;\n",
       "    }\n",
       "\n",
       "    .dataframe tbody tr th {\n",
       "        vertical-align: top;\n",
       "    }\n",
       "\n",
       "    .dataframe thead th {\n",
       "        text-align: right;\n",
       "    }\n",
       "</style>\n",
       "<table border=\"1\" class=\"dataframe\">\n",
       "  <thead>\n",
       "    <tr style=\"text-align: right;\">\n",
       "      <th></th>\n",
       "      <th>State</th>\n",
       "      <th>Multiset of predictions</th>\n",
       "      <th>Annotation</th>\n",
       "    </tr>\n",
       "  </thead>\n",
       "  <tbody>\n",
       "    <tr>\n",
       "      <th>0</th>\n",
       "      <td>{}</td>\n",
       "      <td>[(95, 0.85), (90, 0.95), (100, 0.9)]</td>\n",
       "      <td>(95, 0.9)</td>\n",
       "    </tr>\n",
       "    <tr>\n",
       "      <th>1</th>\n",
       "      <td>{(I, 1)}</td>\n",
       "      <td>[(94, 0.85), (89, 0.95), (99, 0.9)]</td>\n",
       "      <td>(94, 0.9)</td>\n",
       "    </tr>\n",
       "    <tr>\n",
       "      <th>2</th>\n",
       "      <td>{(M, 1), (I, 1)}</td>\n",
       "      <td>[(65, 0.85), (60, 0.95), (60, 0.9)]</td>\n",
       "      <td>(61.67, 0.9)</td>\n",
       "    </tr>\n",
       "    <tr>\n",
       "      <th>3</th>\n",
       "      <td>{(M, 2), (I, 1)}</td>\n",
       "      <td>[(40, 0.85), (40, 0.95), (40, 0.9)]</td>\n",
       "      <td>(40, 0.9)</td>\n",
       "    </tr>\n",
       "    <tr>\n",
       "      <th>4</th>\n",
       "      <td>{(F, 1), (M, 2), (I, 1)}</td>\n",
       "      <td>[(15, 0.85), (15, 0.95)]</td>\n",
       "      <td>(15, 0.9)</td>\n",
       "    </tr>\n",
       "    <tr>\n",
       "      <th>5</th>\n",
       "      <td>{(M, 2), (R, 1), (I, 1)}</td>\n",
       "      <td>[(20, 0.9)]</td>\n",
       "      <td>(20, 0.9)</td>\n",
       "    </tr>\n",
       "    <tr>\n",
       "      <th>6</th>\n",
       "      <td>{(F, 1), (M, 2), (R, 1), (I, 1)}</td>\n",
       "      <td>[(5, 0.85), (5, 0.95), (10, 0.9)]</td>\n",
       "      <td>(6.67, 0.9)</td>\n",
       "    </tr>\n",
       "    <tr>\n",
       "      <th>7</th>\n",
       "      <td>{(F, 1), (R, 1), (S, 1), (M, 2), (I, 1)}</td>\n",
       "      <td>[(0, 0.85), (0, 0.95), (0, 0.9)]</td>\n",
       "      <td>(0, 0.9)</td>\n",
       "    </tr>\n",
       "  </tbody>\n",
       "</table>\n",
       "</div>"
      ],
      "text/plain": [
       "                                      State  \\\n",
       "0                                        {}   \n",
       "1                                  {(I, 1)}   \n",
       "2                          {(M, 1), (I, 1)}   \n",
       "3                          {(M, 2), (I, 1)}   \n",
       "4                  {(F, 1), (M, 2), (I, 1)}   \n",
       "5                  {(M, 2), (R, 1), (I, 1)}   \n",
       "6          {(F, 1), (M, 2), (R, 1), (I, 1)}   \n",
       "7  {(F, 1), (R, 1), (S, 1), (M, 2), (I, 1)}   \n",
       "\n",
       "                Multiset of predictions    Annotation  \n",
       "0  [(95, 0.85), (90, 0.95), (100, 0.9)]     (95, 0.9)  \n",
       "1   [(94, 0.85), (89, 0.95), (99, 0.9)]     (94, 0.9)  \n",
       "2   [(65, 0.85), (60, 0.95), (60, 0.9)]  (61.67, 0.9)  \n",
       "3   [(40, 0.85), (40, 0.95), (40, 0.9)]     (40, 0.9)  \n",
       "4              [(15, 0.85), (15, 0.95)]     (15, 0.9)  \n",
       "5                           [(20, 0.9)]     (20, 0.9)  \n",
       "6     [(5, 0.85), (5, 0.95), (10, 0.9)]   (6.67, 0.9)  \n",
       "7      [(0, 0.85), (0, 0.95), (0, 0.9)]      (0, 0.9)  "
      ]
     },
     "execution_count": 47,
     "metadata": {},
     "output_type": "execute_result"
    }
   ],
   "source": [
    "states2 = pd.DataFrame(columns=['State','Multiset of predictions', 'Annotation'])\n",
    "states2['State'] = [states[0],states[1],states[2],states[3],states[4],states[9],states[7],states[8]]\n",
    "states2['Multiset of predictions'] = [[(95,0.85),(90,0.95),(100,0.9)], [(94,0.85),(89,0.95),(99,0.9)], [(65,0.85),(60,0.95),(60,0.9)], [(40,0.85),(40,0.95),(40,0.9)], [(15,0.85),(15,0.95)], [(20,0.9)], [(5,0.85),(5,0.95),(10,0.9)],[(0,0.85),(0,0.95),(0,0.9)]]\n",
    "states2['Annotation'] = [(95,0.9),(94,0.9),(61.67,0.9),(40,0.9),(15,0.9),(20,0.9),(6.67,0.9),(0,0.9)]\n",
    "states2"
   ]
  },
  {
   "cell_type": "code",
   "execution_count": 48,
   "metadata": {},
   "outputs": [],
   "source": [
    "df_to_latex(states1, \"states2.tex\")"
   ]
  },
  {
   "cell_type": "code",
   "execution_count": 49,
   "metadata": {},
   "outputs": [
    {
     "data": {
      "text/html": [
       "<div>\n",
       "<style scoped>\n",
       "    .dataframe tbody tr th:only-of-type {\n",
       "        vertical-align: middle;\n",
       "    }\n",
       "\n",
       "    .dataframe tbody tr th {\n",
       "        vertical-align: top;\n",
       "    }\n",
       "\n",
       "    .dataframe thead th {\n",
       "        text-align: right;\n",
       "    }\n",
       "</style>\n",
       "<table border=\"1\" class=\"dataframe\">\n",
       "  <thead>\n",
       "    <tr style=\"text-align: right;\">\n",
       "      <th></th>\n",
       "      <th>State</th>\n",
       "      <th>Multiset of predictions</th>\n",
       "      <th>Annotation</th>\n",
       "    </tr>\n",
       "  </thead>\n",
       "  <tbody>\n",
       "    <tr>\n",
       "      <th>0</th>\n",
       "      <td>{}</td>\n",
       "      <td>[(100, 0.7)]</td>\n",
       "      <td>(100, 0.7)</td>\n",
       "    </tr>\n",
       "    <tr>\n",
       "      <th>1</th>\n",
       "      <td>{(I, 1)}</td>\n",
       "      <td>[(99, 0.7)]</td>\n",
       "      <td>(99, 0.7)</td>\n",
       "    </tr>\n",
       "    <tr>\n",
       "      <th>2</th>\n",
       "      <td>{(M, 1), (I, 1)}</td>\n",
       "      <td>[(65, 0.7)]</td>\n",
       "      <td>(65, 0.7)</td>\n",
       "    </tr>\n",
       "    <tr>\n",
       "      <th>3</th>\n",
       "      <td>{(R, 1), (M, 1), (I, 1)}</td>\n",
       "      <td>[(40, 0.7)]</td>\n",
       "      <td>(40, 0.7)</td>\n",
       "    </tr>\n",
       "    <tr>\n",
       "      <th>4</th>\n",
       "      <td>{(M, 2), (R, 1), (I, 1)}</td>\n",
       "      <td>[(10, 0.7)]</td>\n",
       "      <td>(10, 0.7)</td>\n",
       "    </tr>\n",
       "    <tr>\n",
       "      <th>5</th>\n",
       "      <td>{(M, 2), (R, 1), (S, 1), (I, 1)}</td>\n",
       "      <td>[(0, 0.7)]</td>\n",
       "      <td>(0, 0.7)</td>\n",
       "    </tr>\n",
       "  </tbody>\n",
       "</table>\n",
       "</div>"
      ],
      "text/plain": [
       "                              State Multiset of predictions  Annotation\n",
       "0                                {}            [(100, 0.7)]  (100, 0.7)\n",
       "1                          {(I, 1)}             [(99, 0.7)]   (99, 0.7)\n",
       "2                  {(M, 1), (I, 1)}             [(65, 0.7)]   (65, 0.7)\n",
       "3          {(R, 1), (M, 1), (I, 1)}             [(40, 0.7)]   (40, 0.7)\n",
       "4          {(M, 2), (R, 1), (I, 1)}             [(10, 0.7)]   (10, 0.7)\n",
       "5  {(M, 2), (R, 1), (S, 1), (I, 1)}              [(0, 0.7)]    (0, 0.7)"
      ]
     },
     "execution_count": 49,
     "metadata": {},
     "output_type": "execute_result"
    }
   ],
   "source": [
    "states3 = pd.DataFrame(columns=['State','Multiset of predictions', 'Annotation'])\n",
    "states3['State'] = [states[0],states[1],states[2],states[10],states[9],states[13]]\n",
    "states3['Multiset of predictions'] = [[(100,0.7)], [(99,0.7)], [(65,0.7)], [(40,0.7)], [(10,0.7)], [(0,0.7)]]\n",
    "states3['Annotation'] = [(100,0.7), (99,0.7), (65,0.7), (40,0.7), (10,0.7), (0,0.7)]\n",
    "states3"
   ]
  },
  {
   "cell_type": "code",
   "execution_count": 50,
   "metadata": {},
   "outputs": [],
   "source": [
    "df_to_latex(states1, \"states3.tex\")"
   ]
  },
  {
   "cell_type": "code",
   "execution_count": 51,
   "metadata": {},
   "outputs": [
    {
     "data": {
      "text/html": [
       "<div>\n",
       "<style scoped>\n",
       "    .dataframe tbody tr th:only-of-type {\n",
       "        vertical-align: middle;\n",
       "    }\n",
       "\n",
       "    .dataframe tbody tr th {\n",
       "        vertical-align: top;\n",
       "    }\n",
       "\n",
       "    .dataframe thead th {\n",
       "        text-align: right;\n",
       "    }\n",
       "</style>\n",
       "<table border=\"1\" class=\"dataframe\">\n",
       "  <thead>\n",
       "    <tr style=\"text-align: right;\">\n",
       "      <th></th>\n",
       "      <th>State</th>\n",
       "      <th>Multiset of predictions</th>\n",
       "      <th>Annotation</th>\n",
       "    </tr>\n",
       "  </thead>\n",
       "  <tbody>\n",
       "    <tr>\n",
       "      <th>0</th>\n",
       "      <td>{}</td>\n",
       "      <td>[(100, 0.7), (100, 0.7), (110, 0.6)]</td>\n",
       "      <td>(103.33, 0.67)</td>\n",
       "    </tr>\n",
       "    <tr>\n",
       "      <th>1</th>\n",
       "      <td>{(I, 1)}</td>\n",
       "      <td>[(99, 0.7), (99, 0.7), (109, 0.6)]</td>\n",
       "      <td>(102.33, 0.67)</td>\n",
       "    </tr>\n",
       "    <tr>\n",
       "      <th>2</th>\n",
       "      <td>{(M, 1), (I, 1)}</td>\n",
       "      <td>[(60, 0.7), (60, 0.7), (60, 0.6)]</td>\n",
       "      <td>(60, 0.67)</td>\n",
       "    </tr>\n",
       "    <tr>\n",
       "      <th>3</th>\n",
       "      <td>{(M, 2), (I, 1)}</td>\n",
       "      <td>[(40, 0.7), (40, 0.7)]</td>\n",
       "      <td>(40, 0.7)</td>\n",
       "    </tr>\n",
       "    <tr>\n",
       "      <th>4</th>\n",
       "      <td>{(F, 1), (M, 1), (I, 1)}</td>\n",
       "      <td>[(40, 0.6)]</td>\n",
       "      <td>(40, 0.6)</td>\n",
       "    </tr>\n",
       "    <tr>\n",
       "      <th>5</th>\n",
       "      <td>{(F, 1), (M, 2), (I, 1)}</td>\n",
       "      <td>[(15, 0.7), (20, 0.7), (20, 0.6)]</td>\n",
       "      <td>(18.33, 0.67)</td>\n",
       "    </tr>\n",
       "    <tr>\n",
       "      <th>6</th>\n",
       "      <td>{(F, 1), (M, 3), (I, 1)}</td>\n",
       "      <td>[(5, 0.7), (10, 0.7), (15, 0.6)]</td>\n",
       "      <td>(10, 0.67)</td>\n",
       "    </tr>\n",
       "    <tr>\n",
       "      <th>7</th>\n",
       "      <td>{(F, 1), (S, 1), (M, 3), (I, 1)}</td>\n",
       "      <td>[(0, 0.7), (0, 0.7), (0, 0.6)]</td>\n",
       "      <td>(0, 0.67)</td>\n",
       "    </tr>\n",
       "  </tbody>\n",
       "</table>\n",
       "</div>"
      ],
      "text/plain": [
       "                              State               Multiset of predictions  \\\n",
       "0                                {}  [(100, 0.7), (100, 0.7), (110, 0.6)]   \n",
       "1                          {(I, 1)}    [(99, 0.7), (99, 0.7), (109, 0.6)]   \n",
       "2                  {(M, 1), (I, 1)}     [(60, 0.7), (60, 0.7), (60, 0.6)]   \n",
       "3                  {(M, 2), (I, 1)}                [(40, 0.7), (40, 0.7)]   \n",
       "4          {(F, 1), (M, 1), (I, 1)}                           [(40, 0.6)]   \n",
       "5          {(F, 1), (M, 2), (I, 1)}     [(15, 0.7), (20, 0.7), (20, 0.6)]   \n",
       "6          {(F, 1), (M, 3), (I, 1)}      [(5, 0.7), (10, 0.7), (15, 0.6)]   \n",
       "7  {(F, 1), (S, 1), (M, 3), (I, 1)}        [(0, 0.7), (0, 0.7), (0, 0.6)]   \n",
       "\n",
       "       Annotation  \n",
       "0  (103.33, 0.67)  \n",
       "1  (102.33, 0.67)  \n",
       "2      (60, 0.67)  \n",
       "3       (40, 0.7)  \n",
       "4       (40, 0.6)  \n",
       "5   (18.33, 0.67)  \n",
       "6      (10, 0.67)  \n",
       "7       (0, 0.67)  "
      ]
     },
     "execution_count": 51,
     "metadata": {},
     "output_type": "execute_result"
    }
   ],
   "source": [
    "states4 = pd.DataFrame(columns=['State','Multiset of predictions', 'Annotation'])\n",
    "states4['State'] = [states[0],states[1],states[2],states[3],states[14],states[4],states[5],states[6]]\n",
    "states4['Multiset of predictions'] = [[(100,0.7),(100,0.7),(110,0.6)], [(99,0.7),(99,0.7),(109,0.6)], [(60,0.7),(60,0.7),(60,0.6)], [(40,0.7),(40,0.7)], [(40,0.6)], [(15,0.7),(20,0.7),(20,0.6)], [(5,0.7),(10,0.7),(15,0.6)], [(0,0.7),(0,0.7),(0,0.6)]]\n",
    "states4['Annotation'] = [(103.33,0.67), (102.33,0.67), (60,0.67), (40,0.7), (40,0.6), (18.33,0.67), (10,0.67), (0,0.67)]\n",
    "states4"
   ]
  },
  {
   "cell_type": "code",
   "execution_count": 52,
   "metadata": {},
   "outputs": [],
   "source": [
    "df_to_latex(states1, \"states4.tex\")"
   ]
  },
  {
   "cell_type": "code",
   "execution_count": 53,
   "metadata": {},
   "outputs": [
    {
     "data": {
      "text/plain": [
       "[set(),\n",
       " {('I', 1)},\n",
       " {('I', 1), ('M', 1)},\n",
       " {('I', 1), ('M', 2)},\n",
       " {('F', 1), ('I', 1), ('M', 2)},\n",
       " {('F', 1), ('I', 1), ('M', 3)},\n",
       " {('F', 1), ('I', 1), ('M', 3), ('S', 1)},\n",
       " {('F', 1), ('I', 1), ('M', 2), ('R', 1)},\n",
       " {('F', 1), ('I', 1), ('M', 2), ('R', 1), ('S', 1)},\n",
       " {('I', 1), ('M', 2), ('R', 1)},\n",
       " {('I', 1), ('M', 1), ('R', 1)},\n",
       " {('F', 1), ('I', 1), ('M', 1), ('R', 1)},\n",
       " {('F', 1), ('I', 1), ('M', 1), ('R', 1), ('S', 1)},\n",
       " {('I', 1), ('M', 2), ('R', 1), ('S', 1)},\n",
       " {('F', 1), ('I', 1), ('M', 1)}]"
      ]
     },
     "execution_count": 53,
     "metadata": {},
     "output_type": "execute_result"
    }
   ],
   "source": [
    "states"
   ]
  },
  {
   "cell_type": "code",
   "execution_count": 54,
   "metadata": {},
   "outputs": [
    {
     "data": {
      "text/plain": [
       "{('F', 1), ('I', 1), ('M', 3), ('S', 1)}"
      ]
     },
     "execution_count": 54,
     "metadata": {},
     "output_type": "execute_result"
    }
   ],
   "source": [
    "states[6]"
   ]
  },
  {
   "cell_type": "code",
   "execution_count": 55,
   "metadata": {},
   "outputs": [
    {
     "data": {
      "text/plain": [
       "18.333333333333332"
      ]
     },
     "execution_count": 55,
     "metadata": {},
     "output_type": "execute_result"
    }
   ],
   "source": [
    "(15+40)/3"
   ]
  },
  {
   "cell_type": "code",
   "execution_count": 56,
   "metadata": {},
   "outputs": [
    {
     "data": {
      "text/plain": [
       "0.6666666666666666"
      ]
     },
     "execution_count": 56,
     "metadata": {},
     "output_type": "execute_result"
    }
   ],
   "source": [
    "(0.7+0.7+0.6)/3"
   ]
  },
  {
   "cell_type": "code",
   "execution_count": 57,
   "metadata": {},
   "outputs": [
    {
     "data": {
      "text/plain": [
       "6.666666666666667"
      ]
     },
     "execution_count": 57,
     "metadata": {},
     "output_type": "execute_result"
    }
   ],
   "source": [
    "20/3"
   ]
  },
  {
   "cell_type": "code",
   "execution_count": null,
   "metadata": {},
   "outputs": [],
   "source": []
  }
 ],
 "metadata": {
  "kernelspec": {
   "display_name": "Python 3",
   "language": "python",
   "name": "python3"
  },
  "language_info": {
   "codemirror_mode": {
    "name": "ipython",
    "version": 3
   },
   "file_extension": ".py",
   "mimetype": "text/x-python",
   "name": "python",
   "nbconvert_exporter": "python",
   "pygments_lexer": "ipython3",
   "version": "3.7.0"
  }
 },
 "nbformat": 4,
 "nbformat_minor": 2
}
